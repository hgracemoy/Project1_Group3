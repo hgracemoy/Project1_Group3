{
 "cells": [
  {
   "cell_type": "code",
   "execution_count": 1,
   "metadata": {},
   "outputs": [],
   "source": [
    "%matplotlib inline\n"
   ]
  },
  {
   "cell_type": "code",
   "execution_count": 2,
   "metadata": {},
   "outputs": [],
   "source": [
    "# Dependencies and Setup\n",
    "import gmaps\n",
    "import matplotlib.pyplot as plt\n",
    "import pandas as pd\n",
    "import numpy as np\n",
    "import requests\n",
    "import time\n",
    "import pprint\n",
    "import csv\n",
    "import random\n",
    "import seaborn as sns\n",
    "\n",
    "# Google developer API key\n",
    "from config import gkey\n",
    "\n",
    "# Configure gmaps\n",
    "gmaps.configure(api_key=gkey)\n"
   ]
  },
  {
   "cell_type": "code",
   "execution_count": 3,
   "metadata": {},
   "outputs": [
    {
     "data": {
      "text/html": [
       "<div>\n",
       "<style scoped>\n",
       "    .dataframe tbody tr th:only-of-type {\n",
       "        vertical-align: middle;\n",
       "    }\n",
       "\n",
       "    .dataframe tbody tr th {\n",
       "        vertical-align: top;\n",
       "    }\n",
       "\n",
       "    .dataframe thead th {\n",
       "        text-align: right;\n",
       "    }\n",
       "</style>\n",
       "<table border=\"1\" class=\"dataframe\">\n",
       "  <thead>\n",
       "    <tr style=\"text-align: right;\">\n",
       "      <th></th>\n",
       "      <th>City</th>\n",
       "      <th>Lat</th>\n",
       "      <th>Lng</th>\n",
       "      <th>Country</th>\n",
       "      <th>ISO2</th>\n",
       "      <th>State</th>\n",
       "      <th>Capital</th>\n",
       "      <th>Population</th>\n",
       "      <th>Population_Proper</th>\n",
       "      <th>State Long</th>\n",
       "      <th>Biome</th>\n",
       "      <th>Rainfall</th>\n",
       "      <th>Forestfires</th>\n",
       "      <th>Deforestation</th>\n",
       "      <th>Unnamed: 14</th>\n",
       "      <th>Unnamed: 15</th>\n",
       "      <th>Unnamed: 16</th>\n",
       "      <th>Unnamed: 17</th>\n",
       "    </tr>\n",
       "  </thead>\n",
       "  <tbody>\n",
       "    <tr>\n",
       "      <td>0</td>\n",
       "      <td>Porto Velho</td>\n",
       "      <td>-8.761200</td>\n",
       "      <td>-63.903889</td>\n",
       "      <td>Brazil</td>\n",
       "      <td>BR</td>\n",
       "      <td>RO</td>\n",
       "      <td>admin</td>\n",
       "      <td>1,777,225</td>\n",
       "      <td>605,761</td>\n",
       "      <td>Rondonia</td>\n",
       "      <td>Legal Amazon</td>\n",
       "      <td>1</td>\n",
       "      <td>10961</td>\n",
       "      <td>0</td>\n",
       "      <td>NaN</td>\n",
       "      <td>NaN</td>\n",
       "      <td>NaN</td>\n",
       "      <td>NaN</td>\n",
       "    </tr>\n",
       "    <tr>\n",
       "      <td>1</td>\n",
       "      <td>Palmas</td>\n",
       "      <td>-22.875113</td>\n",
       "      <td>-43.277548</td>\n",
       "      <td>Brazil</td>\n",
       "      <td>BR</td>\n",
       "      <td>RJ</td>\n",
       "      <td>admin</td>\n",
       "      <td>17,264,943</td>\n",
       "      <td>2,010,175</td>\n",
       "      <td>Rio de Janeiro</td>\n",
       "      <td>Non-LA</td>\n",
       "      <td>191</td>\n",
       "      <td>1397</td>\n",
       "      <td>0</td>\n",
       "      <td>NaN</td>\n",
       "      <td>NaN</td>\n",
       "      <td>NaN</td>\n",
       "      <td>NaN</td>\n",
       "    </tr>\n",
       "    <tr>\n",
       "      <td>2</td>\n",
       "      <td>Boa Vista</td>\n",
       "      <td>-5.102887</td>\n",
       "      <td>-42.801549</td>\n",
       "      <td>Brazil</td>\n",
       "      <td>BR</td>\n",
       "      <td>PI</td>\n",
       "      <td>admin</td>\n",
       "      <td>3,273,227</td>\n",
       "      <td>586,721</td>\n",
       "      <td>Piaui</td>\n",
       "      <td>Non-LA</td>\n",
       "      <td>240</td>\n",
       "      <td>9478</td>\n",
       "      <td>0</td>\n",
       "      <td>NaN</td>\n",
       "      <td>NaN</td>\n",
       "      <td>NaN</td>\n",
       "      <td>NaN</td>\n",
       "    </tr>\n",
       "    <tr>\n",
       "      <td>3</td>\n",
       "      <td>Belem</td>\n",
       "      <td>-19.901739</td>\n",
       "      <td>-43.964196</td>\n",
       "      <td>Brazil</td>\n",
       "      <td>BR</td>\n",
       "      <td>MG</td>\n",
       "      <td>admin</td>\n",
       "      <td>21,168,791</td>\n",
       "      <td>2,373,224</td>\n",
       "      <td>Minas Gerais</td>\n",
       "      <td>Non-LA</td>\n",
       "      <td>829</td>\n",
       "      <td>11473</td>\n",
       "      <td>0</td>\n",
       "      <td>NaN</td>\n",
       "      <td>NaN</td>\n",
       "      <td>NaN</td>\n",
       "      <td>NaN</td>\n",
       "    </tr>\n",
       "    <tr>\n",
       "      <td>4</td>\n",
       "      <td>Florianopolis</td>\n",
       "      <td>-15.779720</td>\n",
       "      <td>-47.929720</td>\n",
       "      <td>Brazil</td>\n",
       "      <td>BR</td>\n",
       "      <td>DF</td>\n",
       "      <td>admin</td>\n",
       "      <td>3,015,268</td>\n",
       "      <td>3,015,268</td>\n",
       "      <td>Distrito Federal</td>\n",
       "      <td>Non-LA</td>\n",
       "      <td>1037</td>\n",
       "      <td>410</td>\n",
       "      <td>0</td>\n",
       "      <td>NaN</td>\n",
       "      <td>NaN</td>\n",
       "      <td>NaN</td>\n",
       "      <td>NaN</td>\n",
       "    </tr>\n",
       "  </tbody>\n",
       "</table>\n",
       "</div>"
      ],
      "text/plain": [
       "            City        Lat        Lng Country ISO2 State Capital  Population  \\\n",
       "0    Porto Velho  -8.761200 -63.903889  Brazil   BR    RO   admin   1,777,225   \n",
       "1         Palmas -22.875113 -43.277548  Brazil   BR    RJ   admin  17,264,943   \n",
       "2      Boa Vista  -5.102887 -42.801549  Brazil   BR    PI   admin   3,273,227   \n",
       "3          Belem -19.901739 -43.964196  Brazil   BR    MG   admin  21,168,791   \n",
       "4  Florianopolis -15.779720 -47.929720  Brazil   BR    DF   admin   3,015,268   \n",
       "\n",
       "  Population_Proper        State Long         Biome  Rainfall  Forestfires  \\\n",
       "0           605,761          Rondonia  Legal Amazon         1        10961   \n",
       "1         2,010,175    Rio de Janeiro        Non-LA       191         1397   \n",
       "2           586,721             Piaui        Non-LA       240         9478   \n",
       "3         2,373,224      Minas Gerais        Non-LA       829        11473   \n",
       "4         3,015,268  Distrito Federal        Non-LA      1037          410   \n",
       "\n",
       "   Deforestation  Unnamed: 14  Unnamed: 15  Unnamed: 16  Unnamed: 17  \n",
       "0              0          NaN          NaN          NaN          NaN  \n",
       "1              0          NaN          NaN          NaN          NaN  \n",
       "2              0          NaN          NaN          NaN          NaN  \n",
       "3              0          NaN          NaN          NaN          NaN  \n",
       "4              0          NaN          NaN          NaN          NaN  "
      ]
     },
     "execution_count": 3,
     "metadata": {},
     "output_type": "execute_result"
    }
   ],
   "source": [
    "# Create Capital dataframe\n",
    "capital_df = pd.read_csv('../Brazil_GoogleAPI/Lat_Lng_By_State.csv')\n",
    "capital_df.head()\n",
    "\n",
    "# Fill NaN values (and convert to float - **could not convert to float using PY, errors**\n",
    "capital_df.dropna()\n",
    "\n",
    "# Print Dataframe\n",
    "capital_df.head()\n",
    "              "
   ]
  },
  {
   "cell_type": "code",
   "execution_count": 4,
   "metadata": {},
   "outputs": [
    {
     "data": {
      "text/html": [
       "<div>\n",
       "<style scoped>\n",
       "    .dataframe tbody tr th:only-of-type {\n",
       "        vertical-align: middle;\n",
       "    }\n",
       "\n",
       "    .dataframe tbody tr th {\n",
       "        vertical-align: top;\n",
       "    }\n",
       "\n",
       "    .dataframe thead th {\n",
       "        text-align: right;\n",
       "    }\n",
       "</style>\n",
       "<table border=\"1\" class=\"dataframe\">\n",
       "  <thead>\n",
       "    <tr style=\"text-align: right;\">\n",
       "      <th></th>\n",
       "      <th>City</th>\n",
       "      <th>Lat</th>\n",
       "      <th>Lng</th>\n",
       "      <th>Country</th>\n",
       "      <th>ISO2</th>\n",
       "      <th>State</th>\n",
       "      <th>Capital</th>\n",
       "      <th>Population</th>\n",
       "      <th>Population_Proper</th>\n",
       "      <th>State Long</th>\n",
       "      <th>Biome</th>\n",
       "      <th>Rainfall</th>\n",
       "      <th>Forestfires</th>\n",
       "      <th>Deforestation</th>\n",
       "      <th>Unnamed: 14</th>\n",
       "      <th>Unnamed: 15</th>\n",
       "      <th>Unnamed: 16</th>\n",
       "      <th>Unnamed: 17</th>\n",
       "    </tr>\n",
       "  </thead>\n",
       "  <tbody>\n",
       "    <tr>\n",
       "      <td>0</td>\n",
       "      <td>Porto Velho</td>\n",
       "      <td>-8.761200</td>\n",
       "      <td>-63.903889</td>\n",
       "      <td>Brazil</td>\n",
       "      <td>BR</td>\n",
       "      <td>RO</td>\n",
       "      <td>admin</td>\n",
       "      <td>1,777,225</td>\n",
       "      <td>605,761</td>\n",
       "      <td>Rondonia</td>\n",
       "      <td>Legal Amazon</td>\n",
       "      <td>1</td>\n",
       "      <td>10961</td>\n",
       "      <td>0</td>\n",
       "      <td>NaN</td>\n",
       "      <td>NaN</td>\n",
       "      <td>NaN</td>\n",
       "      <td>NaN</td>\n",
       "    </tr>\n",
       "    <tr>\n",
       "      <td>9</td>\n",
       "      <td>Rio de Janeiro</td>\n",
       "      <td>-15.596000</td>\n",
       "      <td>-56.097000</td>\n",
       "      <td>Brazil</td>\n",
       "      <td>BR</td>\n",
       "      <td>MT</td>\n",
       "      <td>admin</td>\n",
       "      <td>3,484,466</td>\n",
       "      <td>400,287</td>\n",
       "      <td>Mato Grosso</td>\n",
       "      <td>Legal Amazon</td>\n",
       "      <td>1314</td>\n",
       "      <td>36344</td>\n",
       "      <td>0</td>\n",
       "      <td>NaN</td>\n",
       "      <td>NaN</td>\n",
       "      <td>NaN</td>\n",
       "      <td>NaN</td>\n",
       "    </tr>\n",
       "    <tr>\n",
       "      <td>10</td>\n",
       "      <td>Joao Pessoa</td>\n",
       "      <td>-10.166944</td>\n",
       "      <td>-48.332778</td>\n",
       "      <td>Brazil</td>\n",
       "      <td>BR</td>\n",
       "      <td>TO</td>\n",
       "      <td>admin</td>\n",
       "      <td>1,572,866</td>\n",
       "      <td>196,272</td>\n",
       "      <td>Tocantins</td>\n",
       "      <td>Legal Amazon</td>\n",
       "      <td>1321</td>\n",
       "      <td>21129</td>\n",
       "      <td>31</td>\n",
       "      <td>NaN</td>\n",
       "      <td>NaN</td>\n",
       "      <td>NaN</td>\n",
       "      <td>NaN</td>\n",
       "    </tr>\n",
       "    <tr>\n",
       "      <td>11</td>\n",
       "      <td>Sao Luis</td>\n",
       "      <td>2.820842</td>\n",
       "      <td>-60.671312</td>\n",
       "      <td>Brazil</td>\n",
       "      <td>BR</td>\n",
       "      <td>RR</td>\n",
       "      <td>admin</td>\n",
       "      <td>605,761</td>\n",
       "      <td>169,449</td>\n",
       "      <td>Roraima</td>\n",
       "      <td>Legal Amazon</td>\n",
       "      <td>1395</td>\n",
       "      <td>1101</td>\n",
       "      <td>1243</td>\n",
       "      <td>NaN</td>\n",
       "      <td>NaN</td>\n",
       "      <td>NaN</td>\n",
       "      <td>NaN</td>\n",
       "    </tr>\n",
       "    <tr>\n",
       "      <td>18</td>\n",
       "      <td>Natal</td>\n",
       "      <td>-9.966667</td>\n",
       "      <td>-67.800000</td>\n",
       "      <td>Brazil</td>\n",
       "      <td>BR</td>\n",
       "      <td>AC</td>\n",
       "      <td>admin</td>\n",
       "      <td>881,935</td>\n",
       "      <td>257,642</td>\n",
       "      <td>Acre</td>\n",
       "      <td>Legal Amazon</td>\n",
       "      <td>1890</td>\n",
       "      <td>7042</td>\n",
       "      <td>257</td>\n",
       "      <td>NaN</td>\n",
       "      <td>NaN</td>\n",
       "      <td>NaN</td>\n",
       "      <td>NaN</td>\n",
       "    </tr>\n",
       "  </tbody>\n",
       "</table>\n",
       "</div>"
      ],
      "text/plain": [
       "              City        Lat        Lng Country ISO2 State Capital  \\\n",
       "0      Porto Velho  -8.761200 -63.903889  Brazil   BR    RO   admin   \n",
       "9   Rio de Janeiro -15.596000 -56.097000  Brazil   BR    MT   admin   \n",
       "10     Joao Pessoa -10.166944 -48.332778  Brazil   BR    TO   admin   \n",
       "11        Sao Luis   2.820842 -60.671312  Brazil   BR    RR   admin   \n",
       "18           Natal  -9.966667 -67.800000  Brazil   BR    AC   admin   \n",
       "\n",
       "   Population Population_Proper   State Long         Biome  Rainfall  \\\n",
       "0   1,777,225           605,761     Rondonia  Legal Amazon         1   \n",
       "9   3,484,466           400,287  Mato Grosso  Legal Amazon      1314   \n",
       "10  1,572,866           196,272    Tocantins  Legal Amazon      1321   \n",
       "11    605,761           169,449      Roraima  Legal Amazon      1395   \n",
       "18    881,935           257,642         Acre  Legal Amazon      1890   \n",
       "\n",
       "    Forestfires  Deforestation  Unnamed: 14  Unnamed: 15  Unnamed: 16  \\\n",
       "0         10961              0          NaN          NaN          NaN   \n",
       "9         36344              0          NaN          NaN          NaN   \n",
       "10        21129             31          NaN          NaN          NaN   \n",
       "11         1101           1243          NaN          NaN          NaN   \n",
       "18         7042            257          NaN          NaN          NaN   \n",
       "\n",
       "    Unnamed: 17  \n",
       "0           NaN  \n",
       "9           NaN  \n",
       "10          NaN  \n",
       "11          NaN  \n",
       "18          NaN  "
      ]
     },
     "execution_count": 4,
     "metadata": {},
     "output_type": "execute_result"
    }
   ],
   "source": [
    "# Define Legal Amazon dataframe\n",
    "legalamazon_df = capital_df[capital_df[\"Biome\"].str.contains(\"Legal Amazon\")]\n",
    "legalamazon_df.head()\n"
   ]
  },
  {
   "cell_type": "code",
   "execution_count": 5,
   "metadata": {},
   "outputs": [
    {
     "data": {
      "text/html": [
       "<div>\n",
       "<style scoped>\n",
       "    .dataframe tbody tr th:only-of-type {\n",
       "        vertical-align: middle;\n",
       "    }\n",
       "\n",
       "    .dataframe tbody tr th {\n",
       "        vertical-align: top;\n",
       "    }\n",
       "\n",
       "    .dataframe thead th {\n",
       "        text-align: right;\n",
       "    }\n",
       "</style>\n",
       "<table border=\"1\" class=\"dataframe\">\n",
       "  <thead>\n",
       "    <tr style=\"text-align: right;\">\n",
       "      <th></th>\n",
       "      <th>City</th>\n",
       "      <th>Lat</th>\n",
       "      <th>Lng</th>\n",
       "      <th>State</th>\n",
       "      <th>Biome</th>\n",
       "      <th>Rainfall</th>\n",
       "      <th>Forestfires</th>\n",
       "      <th>Deforestation</th>\n",
       "    </tr>\n",
       "  </thead>\n",
       "  <tbody>\n",
       "    <tr>\n",
       "      <td>0</td>\n",
       "      <td>Porto Velho</td>\n",
       "      <td>-8.761200</td>\n",
       "      <td>-63.903889</td>\n",
       "      <td>RO</td>\n",
       "      <td>Legal Amazon</td>\n",
       "      <td>1</td>\n",
       "      <td>10961</td>\n",
       "      <td>0</td>\n",
       "    </tr>\n",
       "    <tr>\n",
       "      <td>9</td>\n",
       "      <td>Rio de Janeiro</td>\n",
       "      <td>-15.596000</td>\n",
       "      <td>-56.097000</td>\n",
       "      <td>MT</td>\n",
       "      <td>Legal Amazon</td>\n",
       "      <td>1314</td>\n",
       "      <td>36344</td>\n",
       "      <td>0</td>\n",
       "    </tr>\n",
       "    <tr>\n",
       "      <td>10</td>\n",
       "      <td>Joao Pessoa</td>\n",
       "      <td>-10.166944</td>\n",
       "      <td>-48.332778</td>\n",
       "      <td>TO</td>\n",
       "      <td>Legal Amazon</td>\n",
       "      <td>1321</td>\n",
       "      <td>21129</td>\n",
       "      <td>31</td>\n",
       "    </tr>\n",
       "    <tr>\n",
       "      <td>11</td>\n",
       "      <td>Sao Luis</td>\n",
       "      <td>2.820842</td>\n",
       "      <td>-60.671312</td>\n",
       "      <td>RR</td>\n",
       "      <td>Legal Amazon</td>\n",
       "      <td>1395</td>\n",
       "      <td>1101</td>\n",
       "      <td>1243</td>\n",
       "    </tr>\n",
       "    <tr>\n",
       "      <td>18</td>\n",
       "      <td>Natal</td>\n",
       "      <td>-9.966667</td>\n",
       "      <td>-67.800000</td>\n",
       "      <td>AC</td>\n",
       "      <td>Legal Amazon</td>\n",
       "      <td>1890</td>\n",
       "      <td>7042</td>\n",
       "      <td>257</td>\n",
       "    </tr>\n",
       "    <tr>\n",
       "      <td>20</td>\n",
       "      <td>Manaus</td>\n",
       "      <td>-3.113333</td>\n",
       "      <td>-60.025278</td>\n",
       "      <td>AM</td>\n",
       "      <td>Legal Amazon</td>\n",
       "      <td>2136</td>\n",
       "      <td>14798</td>\n",
       "      <td>1001</td>\n",
       "    </tr>\n",
       "    <tr>\n",
       "      <td>21</td>\n",
       "      <td>Salvador</td>\n",
       "      <td>0.035158</td>\n",
       "      <td>-51.061633</td>\n",
       "      <td>AP</td>\n",
       "      <td>Legal Amazon</td>\n",
       "      <td>2139</td>\n",
       "      <td>1465</td>\n",
       "      <td>24</td>\n",
       "    </tr>\n",
       "    <tr>\n",
       "      <td>23</td>\n",
       "      <td>Macapa</td>\n",
       "      <td>-2.532519</td>\n",
       "      <td>-44.296299</td>\n",
       "      <td>MA</td>\n",
       "      <td>Legal Amazon</td>\n",
       "      <td>2199</td>\n",
       "      <td>28639</td>\n",
       "      <td>265</td>\n",
       "    </tr>\n",
       "    <tr>\n",
       "      <td>25</td>\n",
       "      <td>Rio Branco</td>\n",
       "      <td>-1.437281</td>\n",
       "      <td>-48.470614</td>\n",
       "      <td>PA</td>\n",
       "      <td>Legal Amazon</td>\n",
       "      <td>3321</td>\n",
       "      <td>59771</td>\n",
       "      <td>1561</td>\n",
       "    </tr>\n",
       "  </tbody>\n",
       "</table>\n",
       "</div>"
      ],
      "text/plain": [
       "              City        Lat        Lng State         Biome  Rainfall  \\\n",
       "0      Porto Velho  -8.761200 -63.903889    RO  Legal Amazon         1   \n",
       "9   Rio de Janeiro -15.596000 -56.097000    MT  Legal Amazon      1314   \n",
       "10     Joao Pessoa -10.166944 -48.332778    TO  Legal Amazon      1321   \n",
       "11        Sao Luis   2.820842 -60.671312    RR  Legal Amazon      1395   \n",
       "18           Natal  -9.966667 -67.800000    AC  Legal Amazon      1890   \n",
       "20          Manaus  -3.113333 -60.025278    AM  Legal Amazon      2136   \n",
       "21        Salvador   0.035158 -51.061633    AP  Legal Amazon      2139   \n",
       "23          Macapa  -2.532519 -44.296299    MA  Legal Amazon      2199   \n",
       "25      Rio Branco  -1.437281 -48.470614    PA  Legal Amazon      3321   \n",
       "\n",
       "    Forestfires  Deforestation  \n",
       "0         10961              0  \n",
       "9         36344              0  \n",
       "10        21129             31  \n",
       "11         1101           1243  \n",
       "18         7042            257  \n",
       "20        14798           1001  \n",
       "21         1465             24  \n",
       "23        28639            265  \n",
       "25        59771           1561  "
      ]
     },
     "execution_count": 5,
     "metadata": {},
     "output_type": "execute_result"
    }
   ],
   "source": [
    "# Print Legal Amazon \"City\", \"Lat\", \"Lng\", \"State\", \"Biome\", \"Rainfall\", \"Forestfires\", \"Deforestation\"\n",
    "legalamazon_df[[\"City\", \"Lat\", \"Lng\", \"State\", \"Biome\", \"Rainfall\", \"Forestfires\", \"Deforestation\"]]\n"
   ]
  },
  {
   "cell_type": "code",
   "execution_count": 6,
   "metadata": {},
   "outputs": [],
   "source": [
    "# Store latitude and longitude in locations\n",
    "locations = legalamazon_df[[\"Lat\", \"Lng\"]].astype(float)\n"
   ]
  },
  {
   "cell_type": "code",
   "execution_count": 7,
   "metadata": {},
   "outputs": [],
   "source": [
    "# RAINFALL\n",
    "# Fill NaN values and convert to float (**could not get PY to return float so adjusted in csv**)\n",
    "rainfall = legalamazon_df[\"Rainfall\"]\n"
   ]
  },
  {
   "cell_type": "code",
   "execution_count": 8,
   "metadata": {},
   "outputs": [],
   "source": [
    "# Plot Rainfall Heatmap\n",
    "fig = gmaps.figure()\n"
   ]
  },
  {
   "cell_type": "code",
   "execution_count": 9,
   "metadata": {},
   "outputs": [],
   "source": [
    "# Create heat layer\n",
    "heat_layer = gmaps.heatmap_layer(locations, weights=rainfall, \n",
    "                                 dissipating=False, max_intensity=5,\n",
    "                                 point_radius=1)\n"
   ]
  },
  {
   "cell_type": "code",
   "execution_count": 10,
   "metadata": {},
   "outputs": [],
   "source": [
    "# Add layer\n",
    "fig.add_layer(heat_layer)\n"
   ]
  },
  {
   "cell_type": "code",
   "execution_count": 11,
   "metadata": {},
   "outputs": [],
   "source": [
    "# Assign the marker layer to a variable\n",
    "markers = gmaps.marker_layer(locations)\n"
   ]
  },
  {
   "cell_type": "code",
   "execution_count": 12,
   "metadata": {},
   "outputs": [
    {
     "data": {
      "application/vnd.jupyter.widget-view+json": {
       "model_id": "80a1d3d03261483f8b2ae082ebf8d53e",
       "version_major": 2,
       "version_minor": 0
      },
      "text/plain": [
       "Figure(layout=FigureLayout(height='420px'))"
      ]
     },
     "metadata": {},
     "output_type": "display_data"
    }
   ],
   "source": [
    "# Display figure\n",
    "fig\n",
    "\n",
    "#Save fig\n",
    "#plt.show()\n"
   ]
  },
  {
   "cell_type": "code",
   "execution_count": 13,
   "metadata": {},
   "outputs": [],
   "source": [
    "# Customize the size of the figure\n",
    "figure_layout = {\n",
    "    'width': '400px',\n",
    "    'height': '300px',\n",
    "    'border': '1px solid black',\n",
    "    'padding': '1px',\n",
    "    'margin': '0 auto 0 auto'\n",
    "}\n",
    "fig = gmaps.figure(layout=figure_layout)\n"
   ]
  },
  {
   "cell_type": "code",
   "execution_count": 49,
   "metadata": {},
   "outputs": [
    {
     "data": {
      "application/vnd.jupyter.widget-view+json": {
       "model_id": "3afc1849c5144e5f80ebbf7f22e5eb75",
       "version_major": 2,
       "version_minor": 0
      },
      "text/plain": [
       "Figure(layout=FigureLayout(height='420px'))"
      ]
     },
     "metadata": {},
     "output_type": "display_data"
    }
   ],
   "source": [
    "# BONUS\n",
    "# Plost as a Hybrid Rainfall map\n",
    "fig = gmaps.figure(map_type=\"HYBRID\")\n",
    "\n",
    "# Create heat layer\n",
    "heat_layer = gmaps.heatmap_layer(locations, weights=rainfall, \n",
    "                                 dissipating=False, max_intensity=10,\n",
    "                                 point_radius=1)\n",
    "\n",
    "fig.add_layer(heat_layer)\n",
    "fig"
   ]
  },
  {
   "cell_type": "code",
   "execution_count": 50,
   "metadata": {},
   "outputs": [
    {
     "data": {
      "application/vnd.jupyter.widget-view+json": {
       "model_id": "483f86569b884f16b725503cb3d28a9b",
       "version_major": 2,
       "version_minor": 0
      },
      "text/plain": [
       "Figure(layout=FigureLayout(height='420px'))"
      ]
     },
     "metadata": {},
     "output_type": "display_data"
    }
   ],
   "source": [
    "# BONUS\n",
    "# Plot as a Terrain Rainfall map\n",
    "fig = gmaps.figure(map_type=\"TERRAIN\")\n",
    "\n",
    "# Create heat layer\n",
    "heat_layer = gmaps.heatmap_layer(locations, weights=rainfall, \n",
    "                                 dissipating=False, max_intensity=10,\n",
    "                                 point_radius=1)\n",
    "\n",
    "fig.add_layer(heat_layer)\n",
    "fig"
   ]
  },
  {
   "cell_type": "code",
   "execution_count": 14,
   "metadata": {},
   "outputs": [],
   "source": [
    "# FORESTFIRES\n",
    "# Fill Forestfire NaN values and convert to float\n",
    "forestfires = legalamazon_df[\"Forestfires\"]\n"
   ]
  },
  {
   "cell_type": "code",
   "execution_count": 15,
   "metadata": {},
   "outputs": [],
   "source": [
    "# Plot Forestfires Heatmap\n",
    "fig = gmaps.figure()\n"
   ]
  },
  {
   "cell_type": "code",
   "execution_count": 16,
   "metadata": {},
   "outputs": [],
   "source": [
    "# Create heat layer\n",
    "heat_layer = gmaps.heatmap_layer(locations, weights=forestfires, \n",
    "                                 dissipating=False, max_intensity=5,\n",
    "                                 point_radius=1)\n"
   ]
  },
  {
   "cell_type": "code",
   "execution_count": 17,
   "metadata": {},
   "outputs": [],
   "source": [
    "# Add layer\n",
    "fig.add_layer(heat_layer)\n"
   ]
  },
  {
   "cell_type": "code",
   "execution_count": 18,
   "metadata": {},
   "outputs": [],
   "source": [
    "# Assign the marker layer to a variable\n",
    "markers = gmaps.marker_layer(locations)"
   ]
  },
  {
   "cell_type": "code",
   "execution_count": 19,
   "metadata": {},
   "outputs": [
    {
     "data": {
      "application/vnd.jupyter.widget-view+json": {
       "model_id": "f407ecec7b2a4320b6f198bcc9e4d501",
       "version_major": 2,
       "version_minor": 0
      },
      "text/plain": [
       "Figure(layout=FigureLayout(height='420px'))"
      ]
     },
     "metadata": {},
     "output_type": "display_data"
    }
   ],
   "source": [
    "# Display figure\n",
    "fig\n",
    "\n",
    "#Save fig\n",
    "#plt.show()"
   ]
  },
  {
   "cell_type": "code",
   "execution_count": 20,
   "metadata": {},
   "outputs": [],
   "source": [
    " # Customize the size of the figure\n",
    "figure_layout = {\n",
    "    'width': '400px',\n",
    "    'height': '300px',\n",
    "    'border': '1px solid black',\n",
    "    'padding': '1px',\n",
    "    'margin': '0 auto 0 auto'\n",
    "}\n",
    "fig = gmaps.figure(layout=figure_layout)\n"
   ]
  },
  {
   "cell_type": "code",
   "execution_count": 51,
   "metadata": {},
   "outputs": [
    {
     "data": {
      "application/vnd.jupyter.widget-view+json": {
       "model_id": "ea2083421ef2406180dafb08f915d1c2",
       "version_major": 2,
       "version_minor": 0
      },
      "text/plain": [
       "Figure(layout=FigureLayout(height='420px'))"
      ]
     },
     "metadata": {},
     "output_type": "display_data"
    }
   ],
   "source": [
    "# BONUS\n",
    "# Plost as a Hybrid Forestfires map\n",
    "fig = gmaps.figure(map_type=\"HYBRID\")\n",
    "\n",
    "# Create heat layer\n",
    "heat_layer = gmaps.heatmap_layer(locations, weights=forestfires, \n",
    "                                 dissipating=False, max_intensity=10,\n",
    "                                 point_radius=1)\n",
    "\n",
    "fig.add_layer(heat_layer)\n",
    "fig\n"
   ]
  },
  {
   "cell_type": "code",
   "execution_count": 52,
   "metadata": {},
   "outputs": [
    {
     "data": {
      "application/vnd.jupyter.widget-view+json": {
       "model_id": "b6d08f1de4914ebd9b633b8c494a1893",
       "version_major": 2,
       "version_minor": 0
      },
      "text/plain": [
       "Figure(layout=FigureLayout(height='420px'))"
      ]
     },
     "metadata": {},
     "output_type": "display_data"
    }
   ],
   "source": [
    "# BONUS\n",
    "# Plot as a Terrain Forestfires map\n",
    "fig = gmaps.figure(map_type=\"TERRAIN\")\n",
    "\n",
    "# Create heat layer\n",
    "heat_layer = gmaps.heatmap_layer(locations, weights=forestfires, \n",
    "                                 dissipating=False, max_intensity=10,\n",
    "                                 point_radius=1)\n",
    "\n",
    "fig.add_layer(heat_layer)\n",
    "fig\n"
   ]
  },
  {
   "cell_type": "code",
   "execution_count": 42,
   "metadata": {},
   "outputs": [],
   "source": [
    "# DEFORESTATION\n",
    "# Fill Deforestation NaN values and convert to float\n",
    "deforestation = legalamazon_df[\"Deforestation\"]\n"
   ]
  },
  {
   "cell_type": "code",
   "execution_count": 43,
   "metadata": {},
   "outputs": [],
   "source": [
    "# Plot Deforestation Heatmap\n",
    "fig = gmaps.figure()\n"
   ]
  },
  {
   "cell_type": "code",
   "execution_count": 44,
   "metadata": {},
   "outputs": [],
   "source": [
    "# Create heat layer\n",
    "heat_layer = gmaps.heatmap_layer(locations, weights=deforestation, \n",
    "                                 dissipating=False, max_intensity=1,\n",
    "                                 point_radius=3)\n"
   ]
  },
  {
   "cell_type": "code",
   "execution_count": 45,
   "metadata": {},
   "outputs": [],
   "source": [
    "# Add layer\n",
    "fig.add_layer(heat_layer)\n"
   ]
  },
  {
   "cell_type": "code",
   "execution_count": 46,
   "metadata": {},
   "outputs": [],
   "source": [
    "# Assign the marker layer to a variable\n",
    "markers = gmaps.marker_layer(locations)\n"
   ]
  },
  {
   "cell_type": "code",
   "execution_count": 47,
   "metadata": {},
   "outputs": [
    {
     "data": {
      "application/vnd.jupyter.widget-view+json": {
       "model_id": "655d9f30f90f4ce2b9d1724938272cb1",
       "version_major": 2,
       "version_minor": 0
      },
      "text/plain": [
       "Figure(layout=FigureLayout(height='420px'))"
      ]
     },
     "metadata": {},
     "output_type": "display_data"
    }
   ],
   "source": [
    "# Display figure\n",
    "fig\n",
    "\n",
    "#Save fig\n",
    "#plt.show()\n"
   ]
  },
  {
   "cell_type": "code",
   "execution_count": 48,
   "metadata": {},
   "outputs": [],
   "source": [
    " # Customize the size of the figure\n",
    "figure_layout = {\n",
    "    'width': '400px',\n",
    "    'height': '300px',\n",
    "    'border': '1px solid black',\n",
    "    'padding': '1px',\n",
    "    'margin': '0 auto 0 auto'\n",
    "}\n",
    "fig = gmaps.figure(layout=figure_layout)\n"
   ]
  },
  {
   "cell_type": "code",
   "execution_count": 53,
   "metadata": {},
   "outputs": [
    {
     "data": {
      "application/vnd.jupyter.widget-view+json": {
       "model_id": "e3db9fd8cb8b4a99869a509ce06e8fce",
       "version_major": 2,
       "version_minor": 0
      },
      "text/plain": [
       "Figure(layout=FigureLayout(height='420px'))"
      ]
     },
     "metadata": {},
     "output_type": "display_data"
    }
   ],
   "source": [
    "# BONUS\n",
    "# Plost as a Hybrid Deforestation map\n",
    "fig = gmaps.figure(map_type=\"HYBRID\")\n",
    "\n",
    "# Create heat layer\n",
    "heat_layer = gmaps.heatmap_layer(locations, weights=forestfires, \n",
    "                                 dissipating=False, max_intensity=10,\n",
    "                                 point_radius=1)\n",
    "\n",
    "fig.add_layer(heat_layer)\n",
    "fig\n"
   ]
  },
  {
   "cell_type": "code",
   "execution_count": 54,
   "metadata": {},
   "outputs": [
    {
     "data": {
      "application/vnd.jupyter.widget-view+json": {
       "model_id": "572dcad50d78453ea93821db71062097",
       "version_major": 2,
       "version_minor": 0
      },
      "text/plain": [
       "Figure(layout=FigureLayout(height='420px'))"
      ]
     },
     "metadata": {},
     "output_type": "display_data"
    }
   ],
   "source": [
    "# BONUS\n",
    "# Plot as a Terrain Deforestation map\n",
    "fig = gmaps.figure(map_type=\"TERRAIN\")\n",
    "\n",
    "# Create heat layer\n",
    "heat_layer = gmaps.heatmap_layer(locations, weights=forestfires, \n",
    "                                 dissipating=False, max_intensity=10,\n",
    "                                 point_radius=1)\n",
    "\n",
    "fig.add_layer(heat_layer)\n",
    "fig\n",
    "\n"
   ]
  },
  {
   "cell_type": "code",
   "execution_count": null,
   "metadata": {},
   "outputs": [],
   "source": []
  }
 ],
 "metadata": {
  "kernelspec": {
   "display_name": "Python 3",
   "language": "python",
   "name": "python3"
  },
  "language_info": {
   "codemirror_mode": {
    "name": "ipython",
    "version": 3
   },
   "file_extension": ".py",
   "mimetype": "text/x-python",
   "name": "python",
   "nbconvert_exporter": "python",
   "pygments_lexer": "ipython3",
   "version": "3.7.4"
  }
 },
 "nbformat": 4,
 "nbformat_minor": 2
}
