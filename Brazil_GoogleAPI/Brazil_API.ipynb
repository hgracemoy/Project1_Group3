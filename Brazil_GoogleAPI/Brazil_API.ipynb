{
 "cells": [
  {
   "cell_type": "code",
   "execution_count": 1,
   "metadata": {},
   "outputs": [],
   "source": [
    "%matplotlib inline\n"
   ]
  },
  {
   "cell_type": "code",
   "execution_count": 2,
   "metadata": {},
   "outputs": [],
   "source": [
    "# Dependencies and Setup\n",
    "import gmaps\n",
    "import matplotlib.pyplot as plt\n",
    "import pandas as pd\n",
    "import numpy as np\n",
    "import requests\n",
    "import time\n",
    "import pprint\n",
    "import csv\n",
    "import random\n",
    "import seaborn as sns\n",
    "\n",
    "# Google developer API key\n",
    "from config import gkey\n",
    "\n",
    "# Configure gmaps\n",
    "gmaps.configure(api_key=gkey)\n"
   ]
  },
  {
   "cell_type": "code",
   "execution_count": 3,
   "metadata": {},
   "outputs": [
    {
     "data": {
      "text/html": [
       "<div>\n",
       "<style scoped>\n",
       "    .dataframe tbody tr th:only-of-type {\n",
       "        vertical-align: middle;\n",
       "    }\n",
       "\n",
       "    .dataframe tbody tr th {\n",
       "        vertical-align: top;\n",
       "    }\n",
       "\n",
       "    .dataframe thead th {\n",
       "        text-align: right;\n",
       "    }\n",
       "</style>\n",
       "<table border=\"1\" class=\"dataframe\">\n",
       "  <thead>\n",
       "    <tr style=\"text-align: right;\">\n",
       "      <th></th>\n",
       "      <th>City</th>\n",
       "      <th>Lat_Capital</th>\n",
       "      <th>Lng_Capital</th>\n",
       "      <th>Lat</th>\n",
       "      <th>Lng</th>\n",
       "      <th>Country</th>\n",
       "      <th>ISO2</th>\n",
       "      <th>State</th>\n",
       "      <th>Capital</th>\n",
       "      <th>Population</th>\n",
       "      <th>Population_Proper</th>\n",
       "      <th>State Long</th>\n",
       "      <th>Biome</th>\n",
       "      <th>Rainfall</th>\n",
       "      <th>Rainfall_X</th>\n",
       "      <th>Forestfires</th>\n",
       "      <th>Forestfires_X</th>\n",
       "      <th>Deforestation</th>\n",
       "      <th>Deforestation_X</th>\n",
       "    </tr>\n",
       "  </thead>\n",
       "  <tbody>\n",
       "    <tr>\n",
       "      <td>0</td>\n",
       "      <td>Natal</td>\n",
       "      <td>-9.966667</td>\n",
       "      <td>-67.800000</td>\n",
       "      <td>-8.770000</td>\n",
       "      <td>-70.550000</td>\n",
       "      <td>Brazil</td>\n",
       "      <td>BR</td>\n",
       "      <td>AC</td>\n",
       "      <td>admin</td>\n",
       "      <td>881,935</td>\n",
       "      <td>257,642</td>\n",
       "      <td>Acre</td>\n",
       "      <td>Legal Amazon</td>\n",
       "      <td>5.0</td>\n",
       "      <td>1890</td>\n",
       "      <td>3.0</td>\n",
       "      <td>7042</td>\n",
       "      <td>5.0</td>\n",
       "      <td>257</td>\n",
       "    </tr>\n",
       "    <tr>\n",
       "      <td>1</td>\n",
       "      <td>Palmas</td>\n",
       "      <td>-22.875113</td>\n",
       "      <td>-43.277548</td>\n",
       "      <td>-22.875113</td>\n",
       "      <td>-43.277548</td>\n",
       "      <td>Brazil</td>\n",
       "      <td>BR</td>\n",
       "      <td>RJ</td>\n",
       "      <td>admin</td>\n",
       "      <td>17,264,943</td>\n",
       "      <td>2,010,175</td>\n",
       "      <td>Rio de Janeiro</td>\n",
       "      <td>Non-LA</td>\n",
       "      <td>NaN</td>\n",
       "      <td>191</td>\n",
       "      <td>NaN</td>\n",
       "      <td>1397</td>\n",
       "      <td>NaN</td>\n",
       "      <td>0</td>\n",
       "    </tr>\n",
       "    <tr>\n",
       "      <td>2</td>\n",
       "      <td>Boa Vista</td>\n",
       "      <td>-5.102887</td>\n",
       "      <td>-42.801549</td>\n",
       "      <td>-5.102887</td>\n",
       "      <td>-42.801549</td>\n",
       "      <td>Brazil</td>\n",
       "      <td>BR</td>\n",
       "      <td>PI</td>\n",
       "      <td>admin</td>\n",
       "      <td>3,273,227</td>\n",
       "      <td>586,721</td>\n",
       "      <td>Piaui</td>\n",
       "      <td>Non-LA</td>\n",
       "      <td>NaN</td>\n",
       "      <td>240</td>\n",
       "      <td>NaN</td>\n",
       "      <td>9478</td>\n",
       "      <td>NaN</td>\n",
       "      <td>0</td>\n",
       "    </tr>\n",
       "    <tr>\n",
       "      <td>3</td>\n",
       "      <td>Belem</td>\n",
       "      <td>-19.901739</td>\n",
       "      <td>-43.964196</td>\n",
       "      <td>-19.901739</td>\n",
       "      <td>-43.964196</td>\n",
       "      <td>Brazil</td>\n",
       "      <td>BR</td>\n",
       "      <td>MG</td>\n",
       "      <td>admin</td>\n",
       "      <td>21,168,791</td>\n",
       "      <td>2,373,224</td>\n",
       "      <td>Minas Gerais</td>\n",
       "      <td>Non-LA</td>\n",
       "      <td>NaN</td>\n",
       "      <td>829</td>\n",
       "      <td>NaN</td>\n",
       "      <td>11473</td>\n",
       "      <td>NaN</td>\n",
       "      <td>0</td>\n",
       "    </tr>\n",
       "    <tr>\n",
       "      <td>4</td>\n",
       "      <td>Florianopolis</td>\n",
       "      <td>-15.779720</td>\n",
       "      <td>-47.929720</td>\n",
       "      <td>-15.779720</td>\n",
       "      <td>-47.929720</td>\n",
       "      <td>Brazil</td>\n",
       "      <td>BR</td>\n",
       "      <td>DF</td>\n",
       "      <td>admin</td>\n",
       "      <td>3,015,268</td>\n",
       "      <td>3,015,268</td>\n",
       "      <td>Distrito Federal</td>\n",
       "      <td>Non-LA</td>\n",
       "      <td>NaN</td>\n",
       "      <td>1037</td>\n",
       "      <td>NaN</td>\n",
       "      <td>410</td>\n",
       "      <td>NaN</td>\n",
       "      <td>0</td>\n",
       "    </tr>\n",
       "  </tbody>\n",
       "</table>\n",
       "</div>"
      ],
      "text/plain": [
       "            City  Lat_Capital  Lng_Capital        Lat        Lng Country ISO2  \\\n",
       "0          Natal    -9.966667   -67.800000  -8.770000 -70.550000  Brazil   BR   \n",
       "1         Palmas   -22.875113   -43.277548 -22.875113 -43.277548  Brazil   BR   \n",
       "2      Boa Vista    -5.102887   -42.801549  -5.102887 -42.801549  Brazil   BR   \n",
       "3          Belem   -19.901739   -43.964196 -19.901739 -43.964196  Brazil   BR   \n",
       "4  Florianopolis   -15.779720   -47.929720 -15.779720 -47.929720  Brazil   BR   \n",
       "\n",
       "  State Capital  Population Population_Proper        State Long         Biome  \\\n",
       "0    AC   admin     881,935           257,642              Acre  Legal Amazon   \n",
       "1    RJ   admin  17,264,943         2,010,175    Rio de Janeiro        Non-LA   \n",
       "2    PI   admin   3,273,227           586,721             Piaui        Non-LA   \n",
       "3    MG   admin  21,168,791         2,373,224      Minas Gerais        Non-LA   \n",
       "4    DF   admin   3,015,268         3,015,268  Distrito Federal        Non-LA   \n",
       "\n",
       "   Rainfall  Rainfall_X  Forestfires  Forestfires_X  Deforestation  \\\n",
       "0       5.0        1890          3.0           7042            5.0   \n",
       "1       NaN         191          NaN           1397            NaN   \n",
       "2       NaN         240          NaN           9478            NaN   \n",
       "3       NaN         829          NaN          11473            NaN   \n",
       "4       NaN        1037          NaN            410            NaN   \n",
       "\n",
       "   Deforestation_X  \n",
       "0              257  \n",
       "1                0  \n",
       "2                0  \n",
       "3                0  \n",
       "4                0  "
      ]
     },
     "execution_count": 3,
     "metadata": {},
     "output_type": "execute_result"
    }
   ],
   "source": [
    "# Create Capital dataframe\n",
    "capital_df = pd.read_csv('../Brazil_GoogleAPI/Lat_Lng_By_State.csv')\n",
    "capital_df.head()\n",
    "\n",
    "# Fill NaN values (and convert to float - **could not convert to float using PY, errors**\n",
    "capital_df.dropna()\n",
    "\n",
    "# Print Dataframe\n",
    "capital_df.head()\n",
    "              "
   ]
  },
  {
   "cell_type": "code",
   "execution_count": 4,
   "metadata": {},
   "outputs": [
    {
     "data": {
      "text/html": [
       "<div>\n",
       "<style scoped>\n",
       "    .dataframe tbody tr th:only-of-type {\n",
       "        vertical-align: middle;\n",
       "    }\n",
       "\n",
       "    .dataframe tbody tr th {\n",
       "        vertical-align: top;\n",
       "    }\n",
       "\n",
       "    .dataframe thead th {\n",
       "        text-align: right;\n",
       "    }\n",
       "</style>\n",
       "<table border=\"1\" class=\"dataframe\">\n",
       "  <thead>\n",
       "    <tr style=\"text-align: right;\">\n",
       "      <th></th>\n",
       "      <th>City</th>\n",
       "      <th>Lat_Capital</th>\n",
       "      <th>Lng_Capital</th>\n",
       "      <th>Lat</th>\n",
       "      <th>Lng</th>\n",
       "      <th>Country</th>\n",
       "      <th>ISO2</th>\n",
       "      <th>State</th>\n",
       "      <th>Capital</th>\n",
       "      <th>Population</th>\n",
       "      <th>Population_Proper</th>\n",
       "      <th>State Long</th>\n",
       "      <th>Biome</th>\n",
       "      <th>Rainfall</th>\n",
       "      <th>Rainfall_X</th>\n",
       "      <th>Forestfires</th>\n",
       "      <th>Forestfires_X</th>\n",
       "      <th>Deforestation</th>\n",
       "      <th>Deforestation_X</th>\n",
       "    </tr>\n",
       "  </thead>\n",
       "  <tbody>\n",
       "    <tr>\n",
       "      <td>0</td>\n",
       "      <td>Natal</td>\n",
       "      <td>-9.966667</td>\n",
       "      <td>-67.800000</td>\n",
       "      <td>-8.77</td>\n",
       "      <td>-70.55</td>\n",
       "      <td>Brazil</td>\n",
       "      <td>BR</td>\n",
       "      <td>AC</td>\n",
       "      <td>admin</td>\n",
       "      <td>881,935</td>\n",
       "      <td>257,642</td>\n",
       "      <td>Acre</td>\n",
       "      <td>Legal Amazon</td>\n",
       "      <td>5.0</td>\n",
       "      <td>1890</td>\n",
       "      <td>3.0</td>\n",
       "      <td>7042</td>\n",
       "      <td>5.0</td>\n",
       "      <td>257</td>\n",
       "    </tr>\n",
       "    <tr>\n",
       "      <td>9</td>\n",
       "      <td>Manaus</td>\n",
       "      <td>-3.113333</td>\n",
       "      <td>-60.025278</td>\n",
       "      <td>-3.07</td>\n",
       "      <td>-61.66</td>\n",
       "      <td>Brazil</td>\n",
       "      <td>BR</td>\n",
       "      <td>AM</td>\n",
       "      <td>admin</td>\n",
       "      <td>4,144,597</td>\n",
       "      <td>1,520,244</td>\n",
       "      <td>Amazonas</td>\n",
       "      <td>Legal Amazon</td>\n",
       "      <td>6.0</td>\n",
       "      <td>2136</td>\n",
       "      <td>5.0</td>\n",
       "      <td>14798</td>\n",
       "      <td>7.0</td>\n",
       "      <td>1001</td>\n",
       "    </tr>\n",
       "    <tr>\n",
       "      <td>10</td>\n",
       "      <td>Salvador</td>\n",
       "      <td>0.035158</td>\n",
       "      <td>-51.061633</td>\n",
       "      <td>1.41</td>\n",
       "      <td>-51.77</td>\n",
       "      <td>Brazil</td>\n",
       "      <td>BR</td>\n",
       "      <td>AP</td>\n",
       "      <td>admin</td>\n",
       "      <td>845,731</td>\n",
       "      <td>368,397</td>\n",
       "      <td>Amapa</td>\n",
       "      <td>Legal Amazon</td>\n",
       "      <td>7.0</td>\n",
       "      <td>2139</td>\n",
       "      <td>2.0</td>\n",
       "      <td>1465</td>\n",
       "      <td>3.0</td>\n",
       "      <td>24</td>\n",
       "    </tr>\n",
       "    <tr>\n",
       "      <td>11</td>\n",
       "      <td>Macapa</td>\n",
       "      <td>-2.532519</td>\n",
       "      <td>-44.296299</td>\n",
       "      <td>-2.55</td>\n",
       "      <td>-44.30</td>\n",
       "      <td>Brazil</td>\n",
       "      <td>BR</td>\n",
       "      <td>MA</td>\n",
       "      <td>admin</td>\n",
       "      <td>7,075,181</td>\n",
       "      <td>11,385</td>\n",
       "      <td>Maranhao</td>\n",
       "      <td>Legal Amazon</td>\n",
       "      <td>8.0</td>\n",
       "      <td>2199</td>\n",
       "      <td>7.0</td>\n",
       "      <td>28639</td>\n",
       "      <td>6.0</td>\n",
       "      <td>265</td>\n",
       "    </tr>\n",
       "    <tr>\n",
       "      <td>18</td>\n",
       "      <td>Rio de Janeiro</td>\n",
       "      <td>-15.596000</td>\n",
       "      <td>-56.097000</td>\n",
       "      <td>-12.64</td>\n",
       "      <td>-55.42</td>\n",
       "      <td>Brazil</td>\n",
       "      <td>BR</td>\n",
       "      <td>MT</td>\n",
       "      <td>admin</td>\n",
       "      <td>3,484,466</td>\n",
       "      <td>400,287</td>\n",
       "      <td>Mato Grosso</td>\n",
       "      <td>Legal Amazon</td>\n",
       "      <td>2.0</td>\n",
       "      <td>1314</td>\n",
       "      <td>8.0</td>\n",
       "      <td>36344</td>\n",
       "      <td>2.0</td>\n",
       "      <td>0</td>\n",
       "    </tr>\n",
       "  </tbody>\n",
       "</table>\n",
       "</div>"
      ],
      "text/plain": [
       "              City  Lat_Capital  Lng_Capital    Lat    Lng Country ISO2 State  \\\n",
       "0            Natal    -9.966667   -67.800000  -8.77 -70.55  Brazil   BR    AC   \n",
       "9           Manaus    -3.113333   -60.025278  -3.07 -61.66  Brazil   BR    AM   \n",
       "10        Salvador     0.035158   -51.061633   1.41 -51.77  Brazil   BR    AP   \n",
       "11          Macapa    -2.532519   -44.296299  -2.55 -44.30  Brazil   BR    MA   \n",
       "18  Rio de Janeiro   -15.596000   -56.097000 -12.64 -55.42  Brazil   BR    MT   \n",
       "\n",
       "   Capital Population Population_Proper   State Long         Biome  Rainfall  \\\n",
       "0    admin    881,935           257,642         Acre  Legal Amazon       5.0   \n",
       "9    admin  4,144,597         1,520,244     Amazonas  Legal Amazon       6.0   \n",
       "10   admin    845,731           368,397        Amapa  Legal Amazon       7.0   \n",
       "11   admin  7,075,181            11,385     Maranhao  Legal Amazon       8.0   \n",
       "18   admin  3,484,466           400,287  Mato Grosso  Legal Amazon       2.0   \n",
       "\n",
       "    Rainfall_X  Forestfires  Forestfires_X  Deforestation  Deforestation_X  \n",
       "0         1890          3.0           7042            5.0              257  \n",
       "9         2136          5.0          14798            7.0             1001  \n",
       "10        2139          2.0           1465            3.0               24  \n",
       "11        2199          7.0          28639            6.0              265  \n",
       "18        1314          8.0          36344            2.0                0  "
      ]
     },
     "execution_count": 4,
     "metadata": {},
     "output_type": "execute_result"
    }
   ],
   "source": [
    "# Define Legal Amazon dataframe\n",
    "legalamazon_df = capital_df[capital_df[\"Biome\"].str.contains(\"Legal Amazon\")]\n",
    "legalamazon_df.head()\n"
   ]
  },
  {
   "cell_type": "code",
   "execution_count": 5,
   "metadata": {},
   "outputs": [
    {
     "data": {
      "text/html": [
       "<div>\n",
       "<style scoped>\n",
       "    .dataframe tbody tr th:only-of-type {\n",
       "        vertical-align: middle;\n",
       "    }\n",
       "\n",
       "    .dataframe tbody tr th {\n",
       "        vertical-align: top;\n",
       "    }\n",
       "\n",
       "    .dataframe thead th {\n",
       "        text-align: right;\n",
       "    }\n",
       "</style>\n",
       "<table border=\"1\" class=\"dataframe\">\n",
       "  <thead>\n",
       "    <tr style=\"text-align: right;\">\n",
       "      <th></th>\n",
       "      <th>City</th>\n",
       "      <th>Lat</th>\n",
       "      <th>Lng</th>\n",
       "      <th>State</th>\n",
       "      <th>Biome</th>\n",
       "      <th>Rainfall</th>\n",
       "      <th>Forestfires</th>\n",
       "      <th>Deforestation</th>\n",
       "    </tr>\n",
       "  </thead>\n",
       "  <tbody>\n",
       "    <tr>\n",
       "      <td>0</td>\n",
       "      <td>Natal</td>\n",
       "      <td>-8.7700</td>\n",
       "      <td>-70.550000</td>\n",
       "      <td>AC</td>\n",
       "      <td>Legal Amazon</td>\n",
       "      <td>5.0</td>\n",
       "      <td>3.0</td>\n",
       "      <td>5.0</td>\n",
       "    </tr>\n",
       "    <tr>\n",
       "      <td>9</td>\n",
       "      <td>Manaus</td>\n",
       "      <td>-3.0700</td>\n",
       "      <td>-61.660000</td>\n",
       "      <td>AM</td>\n",
       "      <td>Legal Amazon</td>\n",
       "      <td>6.0</td>\n",
       "      <td>5.0</td>\n",
       "      <td>7.0</td>\n",
       "    </tr>\n",
       "    <tr>\n",
       "      <td>10</td>\n",
       "      <td>Salvador</td>\n",
       "      <td>1.4100</td>\n",
       "      <td>-51.770000</td>\n",
       "      <td>AP</td>\n",
       "      <td>Legal Amazon</td>\n",
       "      <td>7.0</td>\n",
       "      <td>2.0</td>\n",
       "      <td>3.0</td>\n",
       "    </tr>\n",
       "    <tr>\n",
       "      <td>11</td>\n",
       "      <td>Macapa</td>\n",
       "      <td>-2.5500</td>\n",
       "      <td>-44.300000</td>\n",
       "      <td>MA</td>\n",
       "      <td>Legal Amazon</td>\n",
       "      <td>8.0</td>\n",
       "      <td>7.0</td>\n",
       "      <td>6.0</td>\n",
       "    </tr>\n",
       "    <tr>\n",
       "      <td>18</td>\n",
       "      <td>Rio de Janeiro</td>\n",
       "      <td>-12.6400</td>\n",
       "      <td>-55.420000</td>\n",
       "      <td>MT</td>\n",
       "      <td>Legal Amazon</td>\n",
       "      <td>2.0</td>\n",
       "      <td>8.0</td>\n",
       "      <td>2.0</td>\n",
       "    </tr>\n",
       "    <tr>\n",
       "      <td>20</td>\n",
       "      <td>Rio Branco</td>\n",
       "      <td>-5.5300</td>\n",
       "      <td>-52.290000</td>\n",
       "      <td>PA</td>\n",
       "      <td>Legal Amazon</td>\n",
       "      <td>9.0</td>\n",
       "      <td>9.0</td>\n",
       "      <td>9.0</td>\n",
       "    </tr>\n",
       "    <tr>\n",
       "      <td>21</td>\n",
       "      <td>Porto Velho</td>\n",
       "      <td>-8.7612</td>\n",
       "      <td>-63.903889</td>\n",
       "      <td>RO</td>\n",
       "      <td>Legal Amazon</td>\n",
       "      <td>1.0</td>\n",
       "      <td>4.0</td>\n",
       "      <td>1.0</td>\n",
       "    </tr>\n",
       "    <tr>\n",
       "      <td>23</td>\n",
       "      <td>Sao Luis</td>\n",
       "      <td>1.8900</td>\n",
       "      <td>-61.220000</td>\n",
       "      <td>RR</td>\n",
       "      <td>Legal Amazon</td>\n",
       "      <td>4.0</td>\n",
       "      <td>1.0</td>\n",
       "      <td>8.0</td>\n",
       "    </tr>\n",
       "    <tr>\n",
       "      <td>25</td>\n",
       "      <td>Joao Pessoa</td>\n",
       "      <td>-10.2500</td>\n",
       "      <td>-48.250000</td>\n",
       "      <td>TO</td>\n",
       "      <td>Legal Amazon</td>\n",
       "      <td>3.0</td>\n",
       "      <td>6.0</td>\n",
       "      <td>4.0</td>\n",
       "    </tr>\n",
       "  </tbody>\n",
       "</table>\n",
       "</div>"
      ],
      "text/plain": [
       "              City      Lat        Lng State         Biome  Rainfall  \\\n",
       "0            Natal  -8.7700 -70.550000    AC  Legal Amazon       5.0   \n",
       "9           Manaus  -3.0700 -61.660000    AM  Legal Amazon       6.0   \n",
       "10        Salvador   1.4100 -51.770000    AP  Legal Amazon       7.0   \n",
       "11          Macapa  -2.5500 -44.300000    MA  Legal Amazon       8.0   \n",
       "18  Rio de Janeiro -12.6400 -55.420000    MT  Legal Amazon       2.0   \n",
       "20      Rio Branco  -5.5300 -52.290000    PA  Legal Amazon       9.0   \n",
       "21     Porto Velho  -8.7612 -63.903889    RO  Legal Amazon       1.0   \n",
       "23        Sao Luis   1.8900 -61.220000    RR  Legal Amazon       4.0   \n",
       "25     Joao Pessoa -10.2500 -48.250000    TO  Legal Amazon       3.0   \n",
       "\n",
       "    Forestfires  Deforestation  \n",
       "0           3.0            5.0  \n",
       "9           5.0            7.0  \n",
       "10          2.0            3.0  \n",
       "11          7.0            6.0  \n",
       "18          8.0            2.0  \n",
       "20          9.0            9.0  \n",
       "21          4.0            1.0  \n",
       "23          1.0            8.0  \n",
       "25          6.0            4.0  "
      ]
     },
     "execution_count": 5,
     "metadata": {},
     "output_type": "execute_result"
    }
   ],
   "source": [
    "# Print Legal Amazon \"City\", \"Lat\", \"Lng\", \"State\", \"Biome\", \"Rainfall\", \"Forestfires\", \"Deforestation\"\n",
    "legalamazon_df[[\"City\", \"Lat\", \"Lng\", \"State\", \"Biome\", \"Rainfall\", \"Forestfires\", \"Deforestation\"]]\n"
   ]
  },
  {
   "cell_type": "code",
   "execution_count": 6,
   "metadata": {},
   "outputs": [],
   "source": [
    "# Store latitude and longitude in locations\n",
    "locations = legalamazon_df[[\"Lat\", \"Lng\"]].astype(float)\n"
   ]
  },
  {
   "cell_type": "code",
   "execution_count": 7,
   "metadata": {},
   "outputs": [],
   "source": [
    "# RAINFALL\n",
    "# Fill NaN values and convert to float (**could not get PY to return float so adjusted in csv**)\n",
    "rainfall = legalamazon_df[\"Rainfall\"]\n"
   ]
  },
  {
   "cell_type": "code",
   "execution_count": 8,
   "metadata": {},
   "outputs": [],
   "source": [
    "# Plot Rainfall Heatmap\n",
    "fig = gmaps.figure()\n"
   ]
  },
  {
   "cell_type": "code",
   "execution_count": 9,
   "metadata": {},
   "outputs": [],
   "source": [
    "# Create heat layer\n",
    "heat_layer = gmaps.heatmap_layer(locations, weights=rainfall, \n",
    "                                 dissipating=False, max_intensity=10,\n",
    "                                 point_radius=5)\n"
   ]
  },
  {
   "cell_type": "code",
   "execution_count": 10,
   "metadata": {},
   "outputs": [],
   "source": [
    "# Add layer\n",
    "fig.add_layer(heat_layer)\n"
   ]
  },
  {
   "cell_type": "code",
   "execution_count": 11,
   "metadata": {},
   "outputs": [],
   "source": [
    "# Assign the marker layer to a variable\n",
    "markers = gmaps.marker_layer(locations)\n"
   ]
  },
  {
   "cell_type": "code",
   "execution_count": 12,
   "metadata": {},
   "outputs": [
    {
     "data": {
      "application/vnd.jupyter.widget-view+json": {
       "model_id": "9b69dd5620b247fd9984590071462a49",
       "version_major": 2,
       "version_minor": 0
      },
      "text/plain": [
       "Figure(layout=FigureLayout(height='420px'))"
      ]
     },
     "metadata": {},
     "output_type": "display_data"
    }
   ],
   "source": [
    "# Display figure\n",
    "fig\n",
    "\n",
    "#Save fig\n",
    "#plt.show()\n"
   ]
  },
  {
   "cell_type": "code",
   "execution_count": 13,
   "metadata": {},
   "outputs": [],
   "source": [
    "# Customize the size of the figure\n",
    "figure_layout = {\n",
    "    'width': '400px',\n",
    "    'height': '300px',\n",
    "    'border': '1px solid black',\n",
    "    'padding': '1px',\n",
    "    'margin': '0 auto 0 auto'\n",
    "}\n",
    "fig = gmaps.figure(layout=figure_layout)\n"
   ]
  },
  {
   "cell_type": "code",
   "execution_count": 14,
   "metadata": {},
   "outputs": [
    {
     "data": {
      "application/vnd.jupyter.widget-view+json": {
       "model_id": "df05187f0cd242529ae6ea9ad747e242",
       "version_major": 2,
       "version_minor": 0
      },
      "text/plain": [
       "Figure(layout=FigureLayout(height='420px'))"
      ]
     },
     "metadata": {},
     "output_type": "display_data"
    }
   ],
   "source": [
    "# BONUS\n",
    "# Plost as a Hybrid Rainfall map\n",
    "fig = gmaps.figure(map_type=\"HYBRID\")\n",
    "\n",
    "# Create heat layer\n",
    "heat_layer = gmaps.heatmap_layer(locations, weights=rainfall, \n",
    "                                 dissipating=False, max_intensity=10,\n",
    "                                 point_radius=5)\n",
    "\n",
    "fig.add_layer(heat_layer)\n",
    "fig"
   ]
  },
  {
   "cell_type": "code",
   "execution_count": 15,
   "metadata": {},
   "outputs": [
    {
     "data": {
      "application/vnd.jupyter.widget-view+json": {
       "model_id": "973654f765ed41e38cfc7bfceea1fedd",
       "version_major": 2,
       "version_minor": 0
      },
      "text/plain": [
       "Figure(layout=FigureLayout(height='420px'))"
      ]
     },
     "metadata": {},
     "output_type": "display_data"
    }
   ],
   "source": [
    "# BONUS\n",
    "# Plot as a Terrain Rainfall map\n",
    "fig = gmaps.figure(map_type=\"TERRAIN\")\n",
    "\n",
    "# Create heat layer\n",
    "heat_layer = gmaps.heatmap_layer(locations, weights=rainfall, \n",
    "                                 dissipating=False, max_intensity=10,\n",
    "                                 point_radius=5)\n",
    "\n",
    "fig.add_layer(heat_layer)\n",
    "fig"
   ]
  },
  {
   "cell_type": "code",
   "execution_count": 16,
   "metadata": {},
   "outputs": [],
   "source": [
    "# FORESTFIRES\n",
    "# Fill Forestfire NaN values and convert to float\n",
    "forestfires = legalamazon_df[\"Forestfires\"]\n"
   ]
  },
  {
   "cell_type": "code",
   "execution_count": 17,
   "metadata": {},
   "outputs": [],
   "source": [
    "# Plot Forestfires Heatmap\n",
    "fig = gmaps.figure()\n"
   ]
  },
  {
   "cell_type": "code",
   "execution_count": 18,
   "metadata": {},
   "outputs": [],
   "source": [
    "# Create heat layer\n",
    "heat_layer = gmaps.heatmap_layer(locations, weights=forestfires, \n",
    "                                 dissipating=False, max_intensity=10,\n",
    "                                 point_radius=5)\n"
   ]
  },
  {
   "cell_type": "code",
   "execution_count": 19,
   "metadata": {},
   "outputs": [],
   "source": [
    "# Add layer\n",
    "fig.add_layer(heat_layer)\n"
   ]
  },
  {
   "cell_type": "code",
   "execution_count": 20,
   "metadata": {},
   "outputs": [],
   "source": [
    "# Assign the marker layer to a variable\n",
    "markers = gmaps.marker_layer(locations)"
   ]
  },
  {
   "cell_type": "code",
   "execution_count": 21,
   "metadata": {},
   "outputs": [
    {
     "data": {
      "application/vnd.jupyter.widget-view+json": {
       "model_id": "9eb5ac50886b4384b915c45be798016c",
       "version_major": 2,
       "version_minor": 0
      },
      "text/plain": [
       "Figure(layout=FigureLayout(height='420px'))"
      ]
     },
     "metadata": {},
     "output_type": "display_data"
    }
   ],
   "source": [
    "# Display figure\n",
    "fig\n",
    "\n",
    "#Save fig\n",
    "#plt.show()"
   ]
  },
  {
   "cell_type": "code",
   "execution_count": 22,
   "metadata": {},
   "outputs": [],
   "source": [
    " # Customize the size of the figure\n",
    "figure_layout = {\n",
    "    'width': '400px',\n",
    "    'height': '300px',\n",
    "    'border': '1px solid black',\n",
    "    'padding': '1px',\n",
    "    'margin': '0 auto 0 auto'\n",
    "}\n",
    "fig = gmaps.figure(layout=figure_layout)\n"
   ]
  },
  {
   "cell_type": "code",
   "execution_count": 23,
   "metadata": {},
   "outputs": [
    {
     "data": {
      "application/vnd.jupyter.widget-view+json": {
       "model_id": "d8b9d9880fbe418880b2458863f0a5b8",
       "version_major": 2,
       "version_minor": 0
      },
      "text/plain": [
       "Figure(layout=FigureLayout(height='420px'))"
      ]
     },
     "metadata": {},
     "output_type": "display_data"
    }
   ],
   "source": [
    "# BONUS\n",
    "# Plost as a Hybrid Forestfires map\n",
    "fig = gmaps.figure(map_type=\"HYBRID\")\n",
    "\n",
    "# Create heat layer\n",
    "heat_layer = gmaps.heatmap_layer(locations, weights=forestfires, \n",
    "                                 dissipating=False, max_intensity=10,\n",
    "                                 point_radius=5)\n",
    "\n",
    "fig.add_layer(heat_layer)\n",
    "fig\n"
   ]
  },
  {
   "cell_type": "code",
   "execution_count": 24,
   "metadata": {},
   "outputs": [
    {
     "data": {
      "application/vnd.jupyter.widget-view+json": {
       "model_id": "69821bdf76e742d4acd0e94552a995d4",
       "version_major": 2,
       "version_minor": 0
      },
      "text/plain": [
       "Figure(layout=FigureLayout(height='420px'))"
      ]
     },
     "metadata": {},
     "output_type": "display_data"
    }
   ],
   "source": [
    "# BONUS\n",
    "# Plot as a Terrain Forestfires map\n",
    "fig = gmaps.figure(map_type=\"TERRAIN\")\n",
    "\n",
    "# Create heat layer\n",
    "heat_layer = gmaps.heatmap_layer(locations, weights=forestfires, \n",
    "                                 dissipating=False, max_intensity=10,\n",
    "                                 point_radius=5)\n",
    "\n",
    "fig.add_layer(heat_layer)\n",
    "fig\n"
   ]
  },
  {
   "cell_type": "code",
   "execution_count": 25,
   "metadata": {},
   "outputs": [],
   "source": [
    "# DEFORESTATION\n",
    "# Fill Deforestation NaN values and convert to float\n",
    "deforestation = legalamazon_df[\"Deforestation\"]\n"
   ]
  },
  {
   "cell_type": "code",
   "execution_count": 26,
   "metadata": {},
   "outputs": [],
   "source": [
    "# Plot Deforestation Heatmap\n",
    "fig = gmaps.figure()\n"
   ]
  },
  {
   "cell_type": "code",
   "execution_count": 27,
   "metadata": {},
   "outputs": [],
   "source": [
    "# Create heat layer\n",
    "heat_layer = gmaps.heatmap_layer(locations, weights=deforestation, \n",
    "                                 dissipating=False, max_intensity=10,\n",
    "                                 point_radius=5)\n"
   ]
  },
  {
   "cell_type": "code",
   "execution_count": 28,
   "metadata": {},
   "outputs": [],
   "source": [
    "# Add layer\n",
    "fig.add_layer(heat_layer)\n"
   ]
  },
  {
   "cell_type": "code",
   "execution_count": 29,
   "metadata": {},
   "outputs": [],
   "source": [
    "# Assign the marker layer to a variable\n",
    "markers = gmaps.marker_layer(locations)\n"
   ]
  },
  {
   "cell_type": "code",
   "execution_count": 30,
   "metadata": {},
   "outputs": [
    {
     "data": {
      "application/vnd.jupyter.widget-view+json": {
       "model_id": "f79f2d76e71b42f9bfcb305bdda996b4",
       "version_major": 2,
       "version_minor": 0
      },
      "text/plain": [
       "Figure(layout=FigureLayout(height='420px'))"
      ]
     },
     "metadata": {},
     "output_type": "display_data"
    }
   ],
   "source": [
    "# Display figure\n",
    "fig\n",
    "\n",
    "#Save fig\n",
    "#plt.show()\n"
   ]
  },
  {
   "cell_type": "code",
   "execution_count": 31,
   "metadata": {},
   "outputs": [],
   "source": [
    " # Customize the size of the figure\n",
    "figure_layout = {\n",
    "    'width': '400px',\n",
    "    'height': '300px',\n",
    "    'border': '1px solid black',\n",
    "    'padding': '1px',\n",
    "    'margin': '0 auto 0 auto'\n",
    "}\n",
    "fig = gmaps.figure(layout=figure_layout)\n"
   ]
  },
  {
   "cell_type": "code",
   "execution_count": 32,
   "metadata": {},
   "outputs": [
    {
     "data": {
      "application/vnd.jupyter.widget-view+json": {
       "model_id": "e0f343b536ac4d04bc2db1ace277c770",
       "version_major": 2,
       "version_minor": 0
      },
      "text/plain": [
       "Figure(layout=FigureLayout(height='420px'))"
      ]
     },
     "metadata": {},
     "output_type": "display_data"
    }
   ],
   "source": [
    "# BONUS\n",
    "# Plost as a Hybrid Deforestation map\n",
    "fig = gmaps.figure(map_type=\"HYBRID\")\n",
    "\n",
    "# Create heat layer\n",
    "heat_layer = gmaps.heatmap_layer(locations, weights=deforestation, \n",
    "                                 dissipating=False, max_intensity=10,\n",
    "                                 point_radius=5)\n",
    "\n",
    "fig.add_layer(heat_layer)\n",
    "fig\n"
   ]
  },
  {
   "cell_type": "code",
   "execution_count": 33,
   "metadata": {},
   "outputs": [
    {
     "data": {
      "application/vnd.jupyter.widget-view+json": {
       "model_id": "c6c380727ace40c9801d6687b92f49f0",
       "version_major": 2,
       "version_minor": 0
      },
      "text/plain": [
       "Figure(layout=FigureLayout(height='420px'))"
      ]
     },
     "metadata": {},
     "output_type": "display_data"
    }
   ],
   "source": [
    "# BONUS\n",
    "# Plot as a Terrain Deforestation map\n",
    "fig = gmaps.figure(map_type=\"TERRAIN\")\n",
    "\n",
    "# Create heat layer\n",
    "heat_layer = gmaps.heatmap_layer(locations, weights=deforestation, \n",
    "                                 dissipating=False, max_intensity=10,\n",
    "                                 point_radius=5)\n",
    "\n",
    "fig.add_layer(heat_layer)\n",
    "fig\n",
    "\n"
   ]
  },
  {
   "cell_type": "code",
   "execution_count": null,
   "metadata": {},
   "outputs": [],
   "source": []
  }
 ],
 "metadata": {
  "kernelspec": {
   "display_name": "Python 3",
   "language": "python",
   "name": "python3"
  },
  "language_info": {
   "codemirror_mode": {
    "name": "ipython",
    "version": 3
   },
   "file_extension": ".py",
   "mimetype": "text/x-python",
   "name": "python",
   "nbconvert_exporter": "python",
   "pygments_lexer": "ipython3",
   "version": "3.7.4"
  }
 },
 "nbformat": 4,
 "nbformat_minor": 2
}
